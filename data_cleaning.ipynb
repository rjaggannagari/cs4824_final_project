{
 "cells": [
  {
   "cell_type": "markdown",
   "id": "0c7d8ae1",
   "metadata": {},
   "source": [
    "# CS-4824 Intro to Machine Learning\n",
    "# Rohan Jaggannagari\n",
    "# Data Cleaning\n",
    "Note: sources.txt shows which sources were used for this project"
   ]
  },
  {
   "cell_type": "markdown",
   "id": "e96f256e",
   "metadata": {},
   "source": [
    "## Imports"
   ]
  },
  {
   "cell_type": "code",
   "execution_count": null,
   "id": "43b39b1e",
   "metadata": {},
   "outputs": [],
   "source": [
    "import pandas as pd"
   ]
  },
  {
   "cell_type": "markdown",
   "id": "1623b807",
   "metadata": {},
   "source": [
    "## Data Cleaning"
   ]
  },
  {
   "cell_type": "code",
   "execution_count": null,
   "id": "162b39cb",
   "metadata": {},
   "outputs": [],
   "source": [
    "# Read in the dataset\n",
    "anime_df = pd.read_csv(\"raw_data/anime-dataset-2023.csv\")\n",
    "\n",
    "# Columns that need to be dropped\n",
    "drop_columns = ['anime_id', 'Rank', 'Aired', 'Popularity', 'Favorites', 'Scored By', 'Members', \n",
    "                'Image URL', 'Premiered', 'Other name', 'Status']\n",
    "anime_df = anime_df.drop(columns = drop_columns)\n",
    "\n",
    "# Iterate through each anime to clean\n",
    "for i, current_row in anime_df.iterrows():\n",
    "    split_genres = current_row['Genres'].split(',')\n",
    "    \n",
    "    # Only working with shows that have an english name\n",
    "    if current_row['English name'] == 'UNKNOWN':\n",
    "        anime_df.drop(i, inplace = True)\n",
    "    # Need a score for clustering so drop UNKNOWN ones\n",
    "    elif current_row['Score'] == 'UNKNOWN':\n",
    "        anime_df.drop(i, inplace = True)\n",
    "    # Do not want adult content shows in the dataset\n",
    "    elif current_row['Rating'] == 'Rx - Hentai':\n",
    "        anime_df.drop(i, inplace = True)\n",
    "    # Do not want adult content shows in the dataset\n",
    "    elif ' Hentai' in split_genres or 'Hentai' in split_genres:\n",
    "        anime_df.drop(i, inplace = True)\n",
    "    # Get rid of non-numeric episodes\n",
    "    elif current_row['Episodes'] == 'UNKNOWN':\n",
    "        anime_df.drop(i, inplace = True)\n",
    "        \n",
    "anime_df.reset_index(drop = True, inplace = True)\n",
    "anime_df.to_csv('clean_data/clean_anime_data.csv', index = True)"
   ]
  }
 ],
 "metadata": {
  "kernelspec": {
   "display_name": "Python 3 (ipykernel)",
   "language": "python",
   "name": "python3"
  },
  "language_info": {
   "codemirror_mode": {
    "name": "ipython",
    "version": 3
   },
   "file_extension": ".py",
   "mimetype": "text/x-python",
   "name": "python",
   "nbconvert_exporter": "python",
   "pygments_lexer": "ipython3",
   "version": "3.9.12"
  }
 },
 "nbformat": 4,
 "nbformat_minor": 5
}
